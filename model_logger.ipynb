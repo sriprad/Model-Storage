{
  "nbformat": 4,
  "nbformat_minor": 0,
  "metadata": {
    "kernelspec": {
      "display_name": "Python 3",
      "language": "python",
      "name": "python3"
    },
    "language_info": {
      "codemirror_mode": {
        "name": "ipython",
        "version": 3
      },
      "file_extension": ".py",
      "mimetype": "text/x-python",
      "name": "python",
      "nbconvert_exporter": "python",
      "pygments_lexer": "ipython3",
      "version": "3.7.3"
    },
    "colab": {
      "name": "model-logger.ipynb",
      "provenance": []
    }
  },
  "cells": [
    {
      "cell_type": "markdown",
      "metadata": {
        "id": "kVDfevUZocsE",
        "colab_type": "text"
      },
      "source": [
        "# Hey !! Let's get started"
      ]
    },
    {
      "cell_type": "code",
      "metadata": {
        "id": "W6_5DVRaocsF",
        "colab_type": "code",
        "colab": {
          "base_uri": "https://localhost:8080/",
          "height": 1000
        },
        "outputId": "d03f5f02-8b80-4c2e-b8c9-f5f25b6e6a9a"
      },
      "source": [
        "!pip install modellogger"
      ],
      "execution_count": 1,
      "outputs": [
        {
          "output_type": "stream",
          "text": [
            "Collecting modellogger\n",
            "  Downloading https://files.pythonhosted.org/packages/e0/e5/756ba5a2dec69598ccb6bf89c5130c4070e8b030da1b07bebbad4ffd2cf6/modellogger-0.2.3.tar.gz\n",
            "Requirement already satisfied: pandas in /usr/local/lib/python3.6/dist-packages (from modellogger) (1.0.5)\n",
            "Collecting dash\n",
            "\u001b[?25l  Downloading https://files.pythonhosted.org/packages/48/be/71c46eeb4ede1e1778261fe934be874f2066c7f50ae2d9c6d8e488c6a05f/dash-1.13.4.tar.gz (67kB)\n",
            "\u001b[K     |████████████████████████████████| 71kB 2.8MB/s \n",
            "\u001b[?25hRequirement already satisfied: plotly in /usr/local/lib/python3.6/dist-packages (from modellogger) (4.4.1)\n",
            "Requirement already satisfied: joblib in /usr/local/lib/python3.6/dist-packages (from modellogger) (0.16.0)\n",
            "Requirement already satisfied: pytz>=2017.2 in /usr/local/lib/python3.6/dist-packages (from pandas->modellogger) (2018.9)\n",
            "Requirement already satisfied: numpy>=1.13.3 in /usr/local/lib/python3.6/dist-packages (from pandas->modellogger) (1.18.5)\n",
            "Requirement already satisfied: python-dateutil>=2.6.1 in /usr/local/lib/python3.6/dist-packages (from pandas->modellogger) (2.8.1)\n",
            "Requirement already satisfied: Flask>=1.0.2 in /usr/local/lib/python3.6/dist-packages (from dash->modellogger) (1.1.2)\n",
            "Collecting flask-compress\n",
            "  Downloading https://files.pythonhosted.org/packages/a0/96/cd684c1ffe97b513303b5bfd4bbfb4114c5f4a5ea8a737af6fd813273df8/Flask-Compress-1.5.0.tar.gz\n",
            "Collecting dash_renderer==1.5.1\n",
            "\u001b[?25l  Downloading https://files.pythonhosted.org/packages/a7/8b/7c3e314d857fb0a6cc7453f25a05c9b2506f412c2638ad896591767abc75/dash_renderer-1.5.1.tar.gz (1.2MB)\n",
            "\u001b[K     |████████████████████████████████| 1.2MB 7.5MB/s \n",
            "\u001b[?25hCollecting dash-core-components==1.10.1\n",
            "\u001b[?25l  Downloading https://files.pythonhosted.org/packages/d2/e4/c1e5c427c19af00d2e1a13a7ee03a1142ddb04e440f98de501f770f17107/dash_core_components-1.10.1.tar.gz (3.4MB)\n",
            "\u001b[K     |████████████████████████████████| 3.4MB 15.7MB/s \n",
            "\u001b[?25hCollecting dash-html-components==1.0.3\n",
            "\u001b[?25l  Downloading https://files.pythonhosted.org/packages/da/20/46714ae501ccf16e5e37ca160c06e27347d19889687454168730e6744cdc/dash_html_components-1.0.3.tar.gz (187kB)\n",
            "\u001b[K     |████████████████████████████████| 194kB 32.0MB/s \n",
            "\u001b[?25hCollecting dash-table==4.8.1\n",
            "\u001b[?25l  Downloading https://files.pythonhosted.org/packages/06/2d/f326c40f3fba76034db82a08d67a9a8a4a4473ea276774a38dd7ab2136cd/dash_table-4.8.1.tar.gz (1.8MB)\n",
            "\u001b[K     |████████████████████████████████| 1.8MB 34.5MB/s \n",
            "\u001b[?25hRequirement already satisfied: future in /usr/local/lib/python3.6/dist-packages (from dash->modellogger) (0.16.0)\n",
            "Requirement already satisfied: retrying>=1.3.3 in /usr/local/lib/python3.6/dist-packages (from plotly->modellogger) (1.3.3)\n",
            "Requirement already satisfied: six in /usr/local/lib/python3.6/dist-packages (from plotly->modellogger) (1.15.0)\n",
            "Requirement already satisfied: click>=5.1 in /usr/local/lib/python3.6/dist-packages (from Flask>=1.0.2->dash->modellogger) (7.1.2)\n",
            "Requirement already satisfied: Werkzeug>=0.15 in /usr/local/lib/python3.6/dist-packages (from Flask>=1.0.2->dash->modellogger) (1.0.1)\n",
            "Requirement already satisfied: Jinja2>=2.10.1 in /usr/local/lib/python3.6/dist-packages (from Flask>=1.0.2->dash->modellogger) (2.11.2)\n",
            "Requirement already satisfied: itsdangerous>=0.24 in /usr/local/lib/python3.6/dist-packages (from Flask>=1.0.2->dash->modellogger) (1.1.0)\n",
            "Collecting brotli\n",
            "\u001b[?25l  Downloading https://files.pythonhosted.org/packages/f4/68/60a220454dc5083c6d59b41aa90bb1c96fad62a0abf3a33e0ef64b38638a/Brotli-1.0.7-cp36-cp36m-manylinux1_x86_64.whl (352kB)\n",
            "\u001b[K     |████████████████████████████████| 358kB 44.2MB/s \n",
            "\u001b[?25hRequirement already satisfied: MarkupSafe>=0.23 in /usr/local/lib/python3.6/dist-packages (from Jinja2>=2.10.1->Flask>=1.0.2->dash->modellogger) (1.1.1)\n",
            "Building wheels for collected packages: modellogger, dash, flask-compress, dash-renderer, dash-core-components, dash-html-components, dash-table\n",
            "  Building wheel for modellogger (setup.py) ... \u001b[?25l\u001b[?25hdone\n",
            "  Created wheel for modellogger: filename=modellogger-0.2.3-cp36-none-any.whl size=10032 sha256=fa3e5388daa768c9050b25fab986ed9ad81b0995cae39730a6b24c112d87c0ed\n",
            "  Stored in directory: /root/.cache/pip/wheels/99/5e/f4/b65adf6e43b589f39880f0dc6143c73512340696e6f10b1529\n",
            "  Building wheel for dash (setup.py) ... \u001b[?25l\u001b[?25hdone\n",
            "  Created wheel for dash: filename=dash-1.13.4-cp36-none-any.whl size=74951 sha256=7644964aac24ab8696946b332d7e13e3ba1e760da1838f2d3d0f00e87c7b9e9d\n",
            "  Stored in directory: /root/.cache/pip/wheels/a2/06/bc/5c2246621220be254683eb2689a25dcb811762e2db0de8cf66\n",
            "  Building wheel for flask-compress (setup.py) ... \u001b[?25l\u001b[?25hdone\n",
            "  Created wheel for flask-compress: filename=Flask_Compress-1.5.0-cp36-none-any.whl size=5273 sha256=5157889f909d82a229261e3977d4cb580a205059b768b9874a0932573facb66d\n",
            "  Stored in directory: /root/.cache/pip/wheels/f7/e9/e4/5afc286be7c87461375e33152558415dfeb0c8f5af3b50e742\n",
            "  Building wheel for dash-renderer (setup.py) ... \u001b[?25l\u001b[?25hdone\n",
            "  Created wheel for dash-renderer: filename=dash_renderer-1.5.1-cp36-none-any.whl size=1182061 sha256=9490c3fa1fc428e4afc28d1634dd4096387df49c188e1b90884fa216e8d8b0b2\n",
            "  Stored in directory: /root/.cache/pip/wheels/76/04/53/2bc1654437aa5ff4e4da1bb40c3e9ebf1168282a2287d516d7\n",
            "  Building wheel for dash-core-components (setup.py) ... \u001b[?25l\u001b[?25hdone\n",
            "  Created wheel for dash-core-components: filename=dash_core_components-1.10.1-cp36-none-any.whl size=3458662 sha256=690127915a24244b4b83e65304c6ff7cc2da04c6f8c629906a85b29aff8021c3\n",
            "  Stored in directory: /root/.cache/pip/wheels/35/b3/67/ca79d69f2b33930e0eef9c7197daafd3bb8e7c2133785dbcde\n",
            "  Building wheel for dash-html-components (setup.py) ... \u001b[?25l\u001b[?25hdone\n",
            "  Created wheel for dash-html-components: filename=dash_html_components-1.0.3-cp36-none-any.whl size=427303 sha256=6672c39e574d21c8060277edf89cb8f8717b942d1f3b5a089695a0f1c87b0acb\n",
            "  Stored in directory: /root/.cache/pip/wheels/22/c0/79/ef4c2b20a23dc8457ae75c3da5f63163db213d86e13e00fe26\n",
            "  Building wheel for dash-table (setup.py) ... \u001b[?25l\u001b[?25hdone\n",
            "  Created wheel for dash-table: filename=dash_table-4.8.1-cp36-none-any.whl size=1779391 sha256=23af38e8a9fdf44a7536b38fc8c9572983599a14291e04a3fa9855fed7a19e15\n",
            "  Stored in directory: /root/.cache/pip/wheels/c4/17/bf/268d224583f366164cd1cf70d5fcf41ad7d584002ffd24537e\n",
            "Successfully built modellogger dash flask-compress dash-renderer dash-core-components dash-html-components dash-table\n",
            "Installing collected packages: brotli, flask-compress, dash-renderer, dash-core-components, dash-html-components, dash-table, dash, modellogger\n",
            "Successfully installed brotli-1.0.7 dash-1.13.4 dash-core-components-1.10.1 dash-html-components-1.0.3 dash-renderer-1.5.1 dash-table-4.8.1 flask-compress-1.5.0 modellogger-0.2.3\n"
          ],
          "name": "stdout"
        }
      ]
    },
    {
      "cell_type": "code",
      "metadata": {
        "id": "f4PK5VcEocsK",
        "colab_type": "code",
        "colab": {}
      },
      "source": [
        "from modellogger.modellogger import ModelLogger"
      ],
      "execution_count": 2,
      "outputs": []
    },
    {
      "cell_type": "markdown",
      "metadata": {
        "id": "5a_N3GQ-ocsP",
        "colab_type": "text"
      },
      "source": [
        "## Setup model-logger "
      ]
    },
    {
      "cell_type": "code",
      "metadata": {
        "id": "yZPeiRDjocsQ",
        "colab_type": "code",
        "colab": {
          "base_uri": "https://localhost:8080/",
          "height": 34
        },
        "outputId": "191a89fd-fb7d-471f-b1ce-4f19a3f136bd"
      },
      "source": [
        "# create an instance of modellogger ,It will automatically setup the db for you :)\n",
        "\n",
        "mlog = ModelLogger('mydb.db')\n"
      ],
      "execution_count": 3,
      "outputs": [
        {
          "output_type": "stream",
          "text": [
            "Setup Completed \n"
          ],
          "name": "stdout"
        }
      ]
    },
    {
      "cell_type": "code",
      "metadata": {
        "id": "rUBhyYbhocsS",
        "colab_type": "code",
        "colab": {}
      },
      "source": [
        "import numpy as np\n",
        "import pandas as pd\n",
        "from matplotlib import rcParams\n",
        "from sklearn.datasets import load_boston\n",
        "from sklearn.model_selection import train_test_split\n",
        "from sklearn.linear_model import LinearRegression\n",
        "from sklearn.metrics import mean_squared_error\n",
        "    \n",
        "boston = load_boston()\n",
        "bos = pd.DataFrame(boston.data)\n",
        "bos.columns = boston.feature_names\n",
        "bos['PRICE'] = boston.target"
      ],
      "execution_count": 4,
      "outputs": []
    },
    {
      "cell_type": "markdown",
      "metadata": {
        "id": "LU-bvrFhocsV",
        "colab_type": "text"
      },
      "source": [
        "# Train-->Predict-->Store-->Repeat "
      ]
    },
    {
      "cell_type": "code",
      "metadata": {
        "id": "CaKJBr0RocsV",
        "colab_type": "code",
        "colab": {}
      },
      "source": [
        "#boston house pricing dataset\n",
        "X = bos.drop('PRICE', axis = 1)\n",
        "Y = bos['PRICE']\n",
        "X_train, X_test, Y_train, Y_test =train_test_split(X, Y, test_size = 0.33, random_state = 5)\n",
        "\n",
        "#scoring\n",
        "def score(Y_test,Y_pred):\n",
        "    return mean_squared_error(Y_test,Y_pred)\n",
        "\n",
        "#train the model as normal\n",
        "lr1 = LinearRegression()\n",
        "lr1.fit(X_train, Y_train)\n",
        "Y_pred = lr1.predict(X_test)\n",
        "\n",
        "#Store the model\n",
        "mlog.store_model('logistic_v1', lr1 , X_train , score(Y_test,Y_pred))\n",
        "mlog.store_model('linear_v2', lr1 , X_train , score(Y_test,Y_pred))"
      ],
      "execution_count": 5,
      "outputs": []
    },
    {
      "cell_type": "code",
      "metadata": {
        "id": "FBi5pUvfocsY",
        "colab_type": "code",
        "colab": {
          "base_uri": "https://localhost:8080/",
          "height": 151
        },
        "outputId": "5edd2770-64c6-421e-d32c-1694233c13f1"
      },
      "source": [
        "# let's train another regression model with different set of columns\n",
        "X_train =X_train[['RM', 'AGE', 'DIS', 'RAD', 'TAX','PTRATIO', 'B', 'LSTAT']] \n",
        "X_test = X_test[['RM', 'AGE', 'DIS', 'RAD', 'TAX','PTRATIO', 'B', 'LSTAT']]\n",
        "\n",
        "lr2 = LinearRegression(n_jobs=11)\n",
        "lr2.fit(X_train,Y_train)\n",
        "Y_pred = lr2.predict(X_test)\n",
        "\n",
        "mlog.store_model( 'logistic_v2' , lr2 , X_train , score(Y_test,Y_pred))"
      ],
      "execution_count": 7,
      "outputs": [
        {
          "output_type": "stream",
          "text": [
            "Model Name is not Unique , Please enter a name other than -\n",
            "('linear_v2',)\n",
            "('logistic_v1',)\n",
            "('logistic_v2',)\n"
          ],
          "name": "stdout"
        },
        {
          "output_type": "stream",
          "text": [
            "/usr/local/lib/python3.6/dist-packages/modellogger/modellogger.py:146: UserWarning:\n",
            "\n",
            "Input warning - Not Unique Error\n",
            "\n"
          ],
          "name": "stderr"
        }
      ]
    },
    {
      "cell_type": "code",
      "metadata": {
        "id": "wCqXksSDocsa",
        "colab_type": "code",
        "colab": {}
      },
      "source": [
        "#mlog.store_model( 'logistic_v3' , lr2 , X_train , score(Y_test,Y_pred))\n",
        "mlog.store_model( 'linear_v1' , lr2 , X_train , score(Y_test,Y_pred))"
      ],
      "execution_count": 8,
      "outputs": []
    },
    {
      "cell_type": "markdown",
      "metadata": {
        "id": "VS-mPNUiocsf",
        "colab_type": "text"
      },
      "source": [
        "# Quick Sneak - peek"
      ]
    },
    {
      "cell_type": "code",
      "metadata": {
        "id": "CCqFWB-Yocsf",
        "colab_type": "code",
        "colab": {
          "base_uri": "https://localhost:8080/",
          "height": 250
        },
        "outputId": "5d429167-ad85-499d-d49d-b142d61aac22"
      },
      "source": [
        "mlog.view_results()"
      ],
      "execution_count": 9,
      "outputs": [
        {
          "output_type": "execute_result",
          "data": {
            "text/html": [
              "<div>\n",
              "<style scoped>\n",
              "    .dataframe tbody tr th:only-of-type {\n",
              "        vertical-align: middle;\n",
              "    }\n",
              "\n",
              "    .dataframe tbody tr th {\n",
              "        vertical-align: top;\n",
              "    }\n",
              "\n",
              "    .dataframe thead th {\n",
              "        text-align: right;\n",
              "    }\n",
              "</style>\n",
              "<table border=\"1\" class=\"dataframe\">\n",
              "  <thead>\n",
              "    <tr style=\"text-align: right;\">\n",
              "      <th></th>\n",
              "      <th>Model id</th>\n",
              "      <th>Model Name</th>\n",
              "      <th>Val Score</th>\n",
              "      <th>Test Score</th>\n",
              "      <th>Num cols</th>\n",
              "      <th>Feature List</th>\n",
              "      <th>Parameters</th>\n",
              "      <th>Model_type</th>\n",
              "      <th>Model</th>\n",
              "      <th>NumCat</th>\n",
              "      <th>NumCont</th>\n",
              "      <th>Train size</th>\n",
              "    </tr>\n",
              "  </thead>\n",
              "  <tbody>\n",
              "    <tr>\n",
              "      <th>0</th>\n",
              "      <td>1</td>\n",
              "      <td>logistic_v1</td>\n",
              "      <td>28.530459</td>\n",
              "      <td>None</td>\n",
              "      <td>13</td>\n",
              "      <td>['CRIM', 'ZN', 'INDUS', 'CHAS', 'NOX', 'RM', '...</td>\n",
              "      <td>'copy_X': True, 'fit_intercept': True, 'n_jobs...</td>\n",
              "      <td>BaseEstimator</td>\n",
              "      <td>LinearRegression</td>\n",
              "      <td>7</td>\n",
              "      <td>6</td>\n",
              "      <td>339</td>\n",
              "    </tr>\n",
              "    <tr>\n",
              "      <th>1</th>\n",
              "      <td>2</td>\n",
              "      <td>linear_v2</td>\n",
              "      <td>28.530459</td>\n",
              "      <td>None</td>\n",
              "      <td>13</td>\n",
              "      <td>['CRIM', 'ZN', 'INDUS', 'CHAS', 'NOX', 'RM', '...</td>\n",
              "      <td>'copy_X': True, 'fit_intercept': True, 'n_jobs...</td>\n",
              "      <td>BaseEstimator</td>\n",
              "      <td>LinearRegression</td>\n",
              "      <td>7</td>\n",
              "      <td>6</td>\n",
              "      <td>339</td>\n",
              "    </tr>\n",
              "    <tr>\n",
              "      <th>2</th>\n",
              "      <td>3</td>\n",
              "      <td>logistic_v2</td>\n",
              "      <td>30.596226</td>\n",
              "      <td>None</td>\n",
              "      <td>8</td>\n",
              "      <td>['RM', 'AGE', 'DIS', 'RAD', 'TAX', 'PTRATIO', ...</td>\n",
              "      <td>'copy_X': True, 'fit_intercept': True, 'n_jobs...</td>\n",
              "      <td>BaseEstimator</td>\n",
              "      <td>LinearRegression</td>\n",
              "      <td>3</td>\n",
              "      <td>5</td>\n",
              "      <td>339</td>\n",
              "    </tr>\n",
              "    <tr>\n",
              "      <th>3</th>\n",
              "      <td>4</td>\n",
              "      <td>linear_v1</td>\n",
              "      <td>30.596226</td>\n",
              "      <td>None</td>\n",
              "      <td>8</td>\n",
              "      <td>['RM', 'AGE', 'DIS', 'RAD', 'TAX', 'PTRATIO', ...</td>\n",
              "      <td>'copy_X': True, 'fit_intercept': True, 'n_jobs...</td>\n",
              "      <td>BaseEstimator</td>\n",
              "      <td>LinearRegression</td>\n",
              "      <td>3</td>\n",
              "      <td>5</td>\n",
              "      <td>339</td>\n",
              "    </tr>\n",
              "  </tbody>\n",
              "</table>\n",
              "</div>"
            ],
            "text/plain": [
              "   Model id   Model Name  Val Score  ... NumCat  NumCont Train size\n",
              "0         1  logistic_v1  28.530459  ...      7        6        339\n",
              "1         2    linear_v2  28.530459  ...      7        6        339\n",
              "2         3  logistic_v2  30.596226  ...      3        5        339\n",
              "3         4    linear_v1  30.596226  ...      3        5        339\n",
              "\n",
              "[4 rows x 12 columns]"
            ]
          },
          "metadata": {
            "tags": []
          },
          "execution_count": 9
        }
      ]
    },
    {
      "cell_type": "markdown",
      "metadata": {
        "id": "cbnln3ikocsh",
        "colab_type": "text"
      },
      "source": [
        "# Delete a model entry by 'model name'"
      ]
    },
    {
      "cell_type": "code",
      "metadata": {
        "id": "Ck6Y4M3nocsi",
        "colab_type": "code",
        "colab": {}
      },
      "source": [
        "mlog.view_results()"
      ],
      "execution_count": null,
      "outputs": []
    },
    {
      "cell_type": "code",
      "metadata": {
        "id": "Mhtybnh3ocsk",
        "colab_type": "code",
        "colab": {}
      },
      "source": [
        "mlog.delete_model(Model_Name='logistic_v1')"
      ],
      "execution_count": null,
      "outputs": []
    },
    {
      "cell_type": "code",
      "metadata": {
        "id": "Nhbk23Zeocsm",
        "colab_type": "code",
        "colab": {}
      },
      "source": [
        "mlog.delete_model(Model_id= 4)"
      ],
      "execution_count": null,
      "outputs": []
    },
    {
      "cell_type": "code",
      "metadata": {
        "id": "ARa5MnWDocsr",
        "colab_type": "code",
        "colab": {}
      },
      "source": [
        "mlog.delete_all()"
      ],
      "execution_count": null,
      "outputs": []
    },
    {
      "cell_type": "markdown",
      "metadata": {
        "id": "_ogls1xEocst",
        "colab_type": "text"
      },
      "source": [
        "# Model profiling - The fun part begins !!"
      ]
    },
    {
      "cell_type": "code",
      "metadata": {
        "id": "YqOCTio_ocsu",
        "colab_type": "code",
        "colab": {}
      },
      "source": [
        "#sample database can be found in github modellogger.github.io/assests/sample\n",
        "run it local machine not in colab \n",
        "\n",
        "mlog = ModelLogger('financial.db')"
      ],
      "execution_count": null,
      "outputs": []
    },
    {
      "cell_type": "code",
      "metadata": {
        "id": "Lp5VJ5G7ocsw",
        "colab_type": "code",
        "colab": {}
      },
      "source": [
        "mlog.model_profiles()"
      ],
      "execution_count": null,
      "outputs": []
    },
    {
      "cell_type": "code",
      "metadata": {
        "id": "Ci9Kq7jXocs2",
        "colab_type": "code",
        "colab": {}
      },
      "source": [
        ""
      ],
      "execution_count": null,
      "outputs": []
    },
    {
      "cell_type": "code",
      "metadata": {
        "id": "BC2ENJmtocs4",
        "colab_type": "code",
        "colab": {}
      },
      "source": [
        "#Please refer to the documentaion if you face any issue with parameters\n",
        "mlog.info()"
      ],
      "execution_count": null,
      "outputs": []
    }
  ]
}